{
 "cells": [
  {
   "cell_type": "markdown",
   "metadata": {},
   "source": [
    "# Loopy IPython Integration Demo"
   ]
  },
  {
   "cell_type": "code",
   "execution_count": null,
   "metadata": {},
   "outputs": [],
   "source": [
    "%load_ext loopy.ipython_ext"
   ]
  },
  {
   "cell_type": "markdown",
   "metadata": {},
   "source": [
    "## Without transform code"
   ]
  },
  {
   "cell_type": "code",
   "execution_count": null,
   "metadata": {},
   "outputs": [],
   "source": [
    "%%fortran_kernel\n",
    "\n",
    "subroutine fill(out, a, n)\n",
    "  implicit none\n",
    "\n",
    "  real*8 a, out(n)\n",
    "  integer n, i\n",
    "\n",
    "  do i = 1, n\n",
    "    out(i) = a\n",
    "  end do\n",
    "end"
   ]
  },
  {
   "cell_type": "code",
   "execution_count": null,
   "metadata": {},
   "outputs": [],
   "source": [
    "print(prog)  # noqa: F821"
   ]
  },
  {
   "cell_type": "markdown",
   "metadata": {},
   "source": [
    "## With transform code"
   ]
  },
  {
   "cell_type": "code",
   "execution_count": null,
   "metadata": {
    "collapsed": true
   },
   "outputs": [],
   "source": [
    "split_amount = 128"
   ]
  },
  {
   "cell_type": "code",
   "execution_count": null,
   "metadata": {},
   "outputs": [],
   "source": [
    "%%transformed_fortran_kernel\n",
    "\n",
    "subroutine tr_fill(out, a, n)\n",
    "  implicit none\n",
    "\n",
    "  real*8 a, out(n)\n",
    "  integer n, i\n",
    "\n",
    "  do i = 1, n\n",
    "    out(i) = a\n",
    "  end do\n",
    "end\n",
    "\n",
    "!$loopy begin\n",
    "!\n",
    "! tr_fill = lp.parse_fortran(SOURCE)\n",
    "! tr_fill = lp.split_iname(tr_fill, \"i\", split_amount,\n",
    "!     outer_tag=\"g.0\", inner_tag=\"l.0\")\n",
    "! RESULT = tr_fill\n",
    "!\n",
    "!$loopy end"
   ]
  },
  {
   "cell_type": "code",
   "execution_count": null,
   "metadata": {},
   "outputs": [],
   "source": [
    "print(prog)  # noqa: F821"
   ]
  }
 ],
 "metadata": {
  "kernelspec": {
   "display_name": "Python 3",
   "language": "python",
   "name": "python3"
  },
  "language_info": {
   "codemirror_mode": {
    "name": "ipython",
    "version": 3
   },
   "file_extension": ".py",
   "mimetype": "text/x-python",
   "name": "python",
   "nbconvert_exporter": "python",
   "pygments_lexer": "ipython3",
   "version": "3.6.4"
  }
 },
 "nbformat": 4,
 "nbformat_minor": 1
}
